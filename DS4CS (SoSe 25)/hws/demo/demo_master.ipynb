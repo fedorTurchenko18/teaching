{
 "cells": [
  {
   "cell_type": "code",
   "execution_count": 8,
   "metadata": {},
   "outputs": [],
   "source": [
    "import math"
   ]
  },
  {
   "cell_type": "raw",
   "metadata": {
    "vscode": {
     "languageId": "raw"
    }
   },
   "source": [
    "# BEGIN QUESTION\n",
    "name: q1\n",
    "points: 2"
   ]
  },
  {
   "cell_type": "markdown",
   "metadata": {},
   "source": [
    "**Question 1**. Write a function which creates a rectangular triangle given hypotenuse and one cathetus. Check if the one could be created from the given inputs by using Pythagorean theorem to compute the second cathetus and making sure it is a real number."
   ]
  },
  {
   "cell_type": "raw",
   "metadata": {
    "vscode": {
     "languageId": "raw"
    }
   },
   "source": [
    "# BEGIN SOLUTION"
   ]
  },
  {
   "cell_type": "code",
   "execution_count": 9,
   "metadata": {},
   "outputs": [],
   "source": [
    "def create_triangle(cathetus1, hypotenuse):\n",
    "    '''\n",
    "    Create a rectangular triangle as a string of stars\n",
    "    '''\n",
    "    # BEGIN SOLUTION\n",
    "    cathetus2 = math.sqrt(hypotenuse**2 - cathetus1**2)\n",
    "    if not cathetus2.is_integer():\n",
    "        raise ValueError('Invalid right triangle dimensions')\n",
    "    triangle = []\n",
    "    for i in range(1, cathetus1 + 1):\n",
    "        triangle.append('*' * i)\n",
    "    \n",
    "    return '\\n'.join(triangle)\n",
    "    # END SOLUTION"
   ]
  },
  {
   "cell_type": "raw",
   "metadata": {
    "vscode": {
     "languageId": "raw"
    }
   },
   "source": [
    "# END SOLUTION"
   ]
  },
  {
   "cell_type": "raw",
   "metadata": {
    "vscode": {
     "languageId": "raw"
    }
   },
   "source": [
    "# BEGIN TESTS"
   ]
  },
  {
   "cell_type": "code",
   "execution_count": 10,
   "metadata": {},
   "outputs": [],
   "source": [
    "def test_triangles(create_triangle):\n",
    "    assert create_triangle(3, 5) == '*\\n**\\n***'\n",
    "    assert create_triangle(6, 10) == '*\\n**\\n***\\n****\\n*****\\n******'\n",
    "\n",
    "    try:\n",
    "        create_triangle(3, 4)\n",
    "    except ValueError as e:\n",
    "        assert str(e) == 'Invalid right triangle dimensions'\n",
    "test_triangles(create_triangle) # IGNORE"
   ]
  },
  {
   "cell_type": "raw",
   "metadata": {
    "vscode": {
     "languageId": "raw"
    }
   },
   "source": [
    "# END TESTS"
   ]
  },
  {
   "cell_type": "raw",
   "metadata": {
    "vscode": {
     "languageId": "raw"
    }
   },
   "source": [
    "# END QUESTION"
   ]
  },
  {
   "cell_type": "raw",
   "metadata": {},
   "source": []
  }
 ],
 "metadata": {
  "kernelspec": {
   "display_name": ".venv",
   "language": "python",
   "name": "python3"
  },
  "language_info": {
   "codemirror_mode": {
    "name": "ipython",
    "version": 3
   },
   "file_extension": ".py",
   "mimetype": "text/x-python",
   "name": "python",
   "nbconvert_exporter": "python",
   "pygments_lexer": "ipython3",
   "version": "3.10.4"
  }
 },
 "nbformat": 4,
 "nbformat_minor": 2
}
